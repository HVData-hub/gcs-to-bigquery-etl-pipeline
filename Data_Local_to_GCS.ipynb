{
 "cells": [
  {
   "cell_type": "markdown",
   "id": "56dc315f-8a7d-4cd3-a5a0-4e7a5456d33f",
   "metadata": {},
   "source": [
    "## Loading Data from Local to Google Cloud Storage (GCS)"
   ]
  },
  {
   "cell_type": "code",
   "execution_count": 1,
   "id": "c54de630-ecef-48b5-8bdc-460851956390",
   "metadata": {},
   "outputs": [
    {
     "name": "stdout",
     "output_type": "stream",
     "text": [
      "Requirement already satisfied: google-cloud-storage in c:\\python\\lib\\site-packages (3.1.0)\n",
      "Requirement already satisfied: google-auth<3.0dev,>=2.26.1 in c:\\python\\lib\\site-packages (from google-cloud-storage) (2.38.0)\n",
      "Requirement already satisfied: google-api-core<3.0.0dev,>=2.15.0 in c:\\python\\lib\\site-packages (from google-cloud-storage) (2.24.1)\n",
      "Requirement already satisfied: google-cloud-core<3.0dev,>=2.4.2 in c:\\python\\lib\\site-packages (from google-cloud-storage) (2.4.2)\n",
      "Requirement already satisfied: google-resumable-media>=2.7.2 in c:\\python\\lib\\site-packages (from google-cloud-storage) (2.7.2)\n",
      "Requirement already satisfied: requests<3.0.0dev,>=2.18.0 in c:\\python\\lib\\site-packages (from google-cloud-storage) (2.31.0)\n",
      "Requirement already satisfied: google-crc32c<2.0dev,>=1.0 in c:\\python\\lib\\site-packages (from google-cloud-storage) (1.6.0)\n",
      "Requirement already satisfied: googleapis-common-protos<2.0.dev0,>=1.56.2 in c:\\python\\lib\\site-packages (from google-api-core<3.0.0dev,>=2.15.0->google-cloud-storage) (1.69.0)\n",
      "Requirement already satisfied: protobuf!=3.20.0,!=3.20.1,!=4.21.0,!=4.21.1,!=4.21.2,!=4.21.3,!=4.21.4,!=4.21.5,<6.0.0.dev0,>=3.19.5 in c:\\python\\lib\\site-packages (from google-api-core<3.0.0dev,>=2.15.0->google-cloud-storage) (5.29.3)\n",
      "Requirement already satisfied: proto-plus<2.0.0dev,>=1.22.3 in c:\\python\\lib\\site-packages (from google-api-core<3.0.0dev,>=2.15.0->google-cloud-storage) (1.26.0)\n",
      "Requirement already satisfied: cachetools<6.0,>=2.0.0 in c:\\python\\lib\\site-packages (from google-auth<3.0dev,>=2.26.1->google-cloud-storage) (5.5.2)\n",
      "Requirement already satisfied: pyasn1-modules>=0.2.1 in c:\\python\\lib\\site-packages (from google-auth<3.0dev,>=2.26.1->google-cloud-storage) (0.4.1)\n",
      "Requirement already satisfied: rsa<5,>=3.1.4 in c:\\python\\lib\\site-packages (from google-auth<3.0dev,>=2.26.1->google-cloud-storage) (4.9)\n",
      "Requirement already satisfied: charset-normalizer<4,>=2 in c:\\python\\lib\\site-packages (from requests<3.0.0dev,>=2.18.0->google-cloud-storage) (3.2.0)\n",
      "Requirement already satisfied: idna<4,>=2.5 in c:\\python\\lib\\site-packages (from requests<3.0.0dev,>=2.18.0->google-cloud-storage) (3.4)\n",
      "Requirement already satisfied: urllib3<3,>=1.21.1 in c:\\python\\lib\\site-packages (from requests<3.0.0dev,>=2.18.0->google-cloud-storage) (2.0.4)\n",
      "Requirement already satisfied: certifi>=2017.4.17 in c:\\python\\lib\\site-packages (from requests<3.0.0dev,>=2.18.0->google-cloud-storage) (2023.7.22)\n",
      "Requirement already satisfied: pyasn1<0.7.0,>=0.4.6 in c:\\python\\lib\\site-packages (from pyasn1-modules>=0.2.1->google-auth<3.0dev,>=2.26.1->google-cloud-storage) (0.6.1)\n",
      "Requirement already satisfied: google-auth in c:\\python\\lib\\site-packages (2.38.0)\n",
      "Requirement already satisfied: cachetools<6.0,>=2.0.0 in c:\\python\\lib\\site-packages (from google-auth) (5.5.2)\n",
      "Requirement already satisfied: pyasn1-modules>=0.2.1 in c:\\python\\lib\\site-packages (from google-auth) (0.4.1)\n",
      "Requirement already satisfied: rsa<5,>=3.1.4 in c:\\python\\lib\\site-packages (from google-auth) (4.9)\n",
      "Requirement already satisfied: pyasn1<0.7.0,>=0.4.6 in c:\\python\\lib\\site-packages (from pyasn1-modules>=0.2.1->google-auth) (0.6.1)\n"
     ]
    }
   ],
   "source": [
    "!pip install google-cloud-storage\n",
    "!pip install google-auth"
   ]
  },
  {
   "cell_type": "code",
   "execution_count": 3,
   "id": "c89ba5c4-a97c-4378-962b-f5f3e13f3401",
   "metadata": {},
   "outputs": [
    {
     "name": "stderr",
     "output_type": "stream",
     "text": [
      "Your browser has been opened to visit:\n",
      "\n",
      "    https://accounts.google.com/o/oauth2/auth?response_type=code&client_id=32555940559.apps.googleusercontent.com&redirect_uri=http%3A%2F%2Flocalhost%3A8085%2F&scope=openid+https%3A%2F%2Fwww.googleapis.com%2Fauth%2Fuserinfo.email+https%3A%2F%2Fwww.googleapis.com%2Fauth%2Fcloud-platform+https%3A%2F%2Fwww.googleapis.com%2Fauth%2Fappengine.admin+https%3A%2F%2Fwww.googleapis.com%2Fauth%2Fsqlservice.login+https%3A%2F%2Fwww.googleapis.com%2Fauth%2Fcompute+https%3A%2F%2Fwww.googleapis.com%2Fauth%2Faccounts.reauth&state=5AbdGOeR6MJeF8mvbCHyxVp2ef2fkj&access_type=offline&code_challenge=LwgqAUOCqh6ueAlz2E_FArAoLySH1A6eiG51GZrIm84&code_challenge_method=S256\n",
      "\n",
      "\n",
      "You are now logged in as [harshavardhan03467@gmail.com].\n",
      "Your current project is [caramel-duality-452616-e6].  You can change this setting by running:\n",
      "  $ gcloud config set project PROJECT_ID\n"
     ]
    }
   ],
   "source": [
    "!gcloud auth login"
   ]
  },
  {
   "cell_type": "code",
   "execution_count": 1,
   "id": "d5dc8222-e9f5-4752-b9b6-84f403b91376",
   "metadata": {},
   "outputs": [],
   "source": [
    "from google.cloud import storage\n",
    "import os\n",
    "\n",
    "# Initialize a client\n",
    "storage_client = storage.Client()"
   ]
  },
  {
   "cell_type": "markdown",
   "id": "a7c3dbf4-89fa-4cbd-a04f-7c217dbcf178",
   "metadata": {},
   "source": [
    "#### Created the bucket Inside GCS called **covid19data202024** and then loaded the dataset **WHO_COVID19_globaldata.csv** into the GCS bucket "
   ]
  },
  {
   "cell_type": "code",
   "execution_count": 5,
   "id": "e83ec5d0-d890-4a29-ae9c-9f833075d574",
   "metadata": {},
   "outputs": [],
   "source": [
    "bucket_name = \"covid19data202024\""
   ]
  },
  {
   "cell_type": "code",
   "execution_count": 6,
   "id": "5df575b3-02cd-4905-bdd4-3f40cb1e2a57",
   "metadata": {},
   "outputs": [],
   "source": [
    "local_file_path = r\"C:\\Users\\Harsh\\Datasets\\WHO_COVID19_globaldata.csv\""
   ]
  },
  {
   "cell_type": "code",
   "execution_count": 7,
   "id": "2c7cc559-2437-4d17-9ae9-2d1d75df3674",
   "metadata": {},
   "outputs": [],
   "source": [
    "destination_blob_name = \"WHO_COVID19_globaldata.csv\""
   ]
  },
  {
   "cell_type": "code",
   "execution_count": 8,
   "id": "c0403cb9-b7c6-4cd6-bc7a-45cd2fad2388",
   "metadata": {},
   "outputs": [],
   "source": [
    "bucket = storage_client.bucket(bucket_name)"
   ]
  },
  {
   "cell_type": "code",
   "execution_count": 9,
   "id": "837f45a4-b84a-4e25-be1f-af04da2edc8b",
   "metadata": {},
   "outputs": [],
   "source": [
    "blob = bucket.blob(destination_blob_name)\n",
    "blob.upload_from_filename(local_file_path)"
   ]
  },
  {
   "cell_type": "code",
   "execution_count": 10,
   "id": "7e670451-04d6-47e3-84e5-f75f600a87a8",
   "metadata": {},
   "outputs": [
    {
     "name": "stdout",
     "output_type": "stream",
     "text": [
      "File C:\\Users\\Harsh\\Datasets\\WHO_COVID19_globaldata.csv uploaded to WHO_COVID19_globaldata.csv.\n"
     ]
    }
   ],
   "source": [
    "print(f\"File {local_file_path} uploaded to {destination_blob_name}.\")"
   ]
  },
  {
   "cell_type": "markdown",
   "id": "9369b215-6b83-488c-99aa-a79087b52499",
   "metadata": {},
   "source": [
    "#### Finally, the data has been loaded to GCS. We can directly upload the data from localto GCS using Upload file option. However, I wanna try it using python inside jupyter notebook"
   ]
  },
  {
   "cell_type": "code",
   "execution_count": null,
   "id": "36514519-8be4-43c0-ab3c-665b566e387c",
   "metadata": {},
   "outputs": [],
   "source": [
    "The motive behind loading data from local to GCS in this project is to **automate the process of securely backing up and centralizing data in the cloud**. By doing so, you ensure that your data is safely stored, accessible from anywhere, and ready for scalable processing or analysis. It also eliminates the risk of data loss on local storage and makes it easier to share or integrate with other cloud-based services or applications."
   ]
  }
 ],
 "metadata": {
  "kernelspec": {
   "display_name": "Python 3 (ipykernel)",
   "language": "python",
   "name": "python3"
  },
  "language_info": {
   "codemirror_mode": {
    "name": "ipython",
    "version": 3
   },
   "file_extension": ".py",
   "mimetype": "text/x-python",
   "name": "python",
   "nbconvert_exporter": "python",
   "pygments_lexer": "ipython3",
   "version": "3.9.6"
  }
 },
 "nbformat": 4,
 "nbformat_minor": 5
}
