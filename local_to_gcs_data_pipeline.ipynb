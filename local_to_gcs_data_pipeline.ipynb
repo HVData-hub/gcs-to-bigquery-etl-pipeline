{
 "cells": [
  {
   "cell_type": "markdown",
   "id": "4c84b74b-d29a-4c02-a1d0-1373fe899d4e",
   "metadata": {},
   "source": [
    "# Local to GCS Data Pipeline: Reading, Cleaning, and Uploading with Pandas"
   ]
  },
  {
   "cell_type": "markdown",
   "id": "5cb27413-5c19-4981-bb62-ad7350d4abc1",
   "metadata": {},
   "source": [
    "### Step 1: Read the data from local into a pandas DataFrame."
   ]
  },
  {
   "cell_type": "markdown",
   "id": "8bc55a7a-fea4-460a-8f20-781902aff18c",
   "metadata": {},
   "source": [
    "#### Importing basic libraries need for data loading"
   ]
  },
  {
   "cell_type": "code",
   "execution_count": 1,
   "id": "d2e02be0-a494-4795-8ce8-ada3b4181fbe",
   "metadata": {},
   "outputs": [],
   "source": [
    "import pandas as pd\n",
    "import numpy as np"
   ]
  },
  {
   "cell_type": "code",
   "execution_count": 2,
   "id": "a13e4e87-3e4b-4b63-bd94-79925659f51e",
   "metadata": {},
   "outputs": [],
   "source": [
    "df = pd.read_csv(r\"C:\\Users\\sushe\\Downloads\\WHO_COVID19_globaldata.csv\", delimiter=';', index_col=False)"
   ]
  },
  {
   "cell_type": "code",
   "execution_count": 3,
   "id": "01ad84ae-65fa-4f8b-8504-e897e3a0739c",
   "metadata": {
    "scrolled": true
   },
   "outputs": [
    {
     "data": {
      "text/html": [
       "<div>\n",
       "<style scoped>\n",
       "    .dataframe tbody tr th:only-of-type {\n",
       "        vertical-align: middle;\n",
       "    }\n",
       "\n",
       "    .dataframe tbody tr th {\n",
       "        vertical-align: top;\n",
       "    }\n",
       "\n",
       "    .dataframe thead th {\n",
       "        text-align: right;\n",
       "    }\n",
       "</style>\n",
       "<table border=\"1\" class=\"dataframe\">\n",
       "  <thead>\n",
       "    <tr style=\"text-align: right;\">\n",
       "      <th></th>\n",
       "      <th>Date_reported</th>\n",
       "      <th>Country_code</th>\n",
       "      <th>Country</th>\n",
       "      <th>WHO_region</th>\n",
       "      <th>New_cases</th>\n",
       "      <th>Cumulative_cases</th>\n",
       "      <th>New_deaths</th>\n",
       "      <th>Cumulative_deaths,</th>\n",
       "    </tr>\n",
       "  </thead>\n",
       "  <tbody>\n",
       "    <tr>\n",
       "      <th>0</th>\n",
       "      <td>05/01/2020</td>\n",
       "      <td>AF</td>\n",
       "      <td>Afghanistan</td>\n",
       "      <td>EMRO</td>\n",
       "      <td>NaN</td>\n",
       "      <td>0</td>\n",
       "      <td>NaN</td>\n",
       "      <td>0,</td>\n",
       "    </tr>\n",
       "    <tr>\n",
       "      <th>1</th>\n",
       "      <td>12/01/2020</td>\n",
       "      <td>AF</td>\n",
       "      <td>Afghanistan</td>\n",
       "      <td>EMRO</td>\n",
       "      <td>NaN</td>\n",
       "      <td>0</td>\n",
       "      <td>NaN</td>\n",
       "      <td>0,</td>\n",
       "    </tr>\n",
       "    <tr>\n",
       "      <th>2</th>\n",
       "      <td>19/01/2020</td>\n",
       "      <td>AF</td>\n",
       "      <td>Afghanistan</td>\n",
       "      <td>EMRO</td>\n",
       "      <td>NaN</td>\n",
       "      <td>0</td>\n",
       "      <td>NaN</td>\n",
       "      <td>0,</td>\n",
       "    </tr>\n",
       "    <tr>\n",
       "      <th>3</th>\n",
       "      <td>26/01/2020</td>\n",
       "      <td>AF</td>\n",
       "      <td>Afghanistan</td>\n",
       "      <td>EMRO</td>\n",
       "      <td>NaN</td>\n",
       "      <td>0</td>\n",
       "      <td>NaN</td>\n",
       "      <td>0,</td>\n",
       "    </tr>\n",
       "    <tr>\n",
       "      <th>4</th>\n",
       "      <td>02/02/2020</td>\n",
       "      <td>AF</td>\n",
       "      <td>Afghanistan</td>\n",
       "      <td>EMRO</td>\n",
       "      <td>NaN</td>\n",
       "      <td>0</td>\n",
       "      <td>NaN</td>\n",
       "      <td>0,</td>\n",
       "    </tr>\n",
       "  </tbody>\n",
       "</table>\n",
       "</div>"
      ],
      "text/plain": [
       "  Date_reported Country_code      Country WHO_region  New_cases  \\\n",
       "0    05/01/2020           AF  Afghanistan       EMRO        NaN   \n",
       "1    12/01/2020           AF  Afghanistan       EMRO        NaN   \n",
       "2    19/01/2020           AF  Afghanistan       EMRO        NaN   \n",
       "3    26/01/2020           AF  Afghanistan       EMRO        NaN   \n",
       "4    02/02/2020           AF  Afghanistan       EMRO        NaN   \n",
       "\n",
       "   Cumulative_cases  New_deaths Cumulative_deaths,  \n",
       "0                 0         NaN                 0,  \n",
       "1                 0         NaN                 0,  \n",
       "2                 0         NaN                 0,  \n",
       "3                 0         NaN                 0,  \n",
       "4                 0         NaN                 0,  "
      ]
     },
     "execution_count": 3,
     "metadata": {},
     "output_type": "execute_result"
    }
   ],
   "source": [
    "df.head()"
   ]
  },
  {
   "cell_type": "markdown",
   "id": "5c2bd759-7794-435a-b950-70e116328212",
   "metadata": {},
   "source": [
    "## Step 2: Data Cleaning"
   ]
  },
  {
   "cell_type": "code",
   "execution_count": 4,
   "id": "fe5f0a6f-ecf5-483a-815d-bb8a7e8645e1",
   "metadata": {},
   "outputs": [],
   "source": [
    "df.columns = df.columns.str.strip()\n",
    "df.iloc[:, -1] = df.iloc[:, -1].astype(str).str.rstrip(',')"
   ]
  },
  {
   "cell_type": "code",
   "execution_count": 5,
   "id": "371e8d7a-0c8a-43e9-b343-8cf855de2e41",
   "metadata": {},
   "outputs": [
    {
     "name": "stdout",
     "output_type": "stream",
     "text": [
      "  Date_reported Country_code      Country WHO_region  New_cases  \\\n",
      "0    05/01/2020           AF  Afghanistan       EMRO        NaN   \n",
      "1    12/01/2020           AF  Afghanistan       EMRO        NaN   \n",
      "2    19/01/2020           AF  Afghanistan       EMRO        NaN   \n",
      "3    26/01/2020           AF  Afghanistan       EMRO        NaN   \n",
      "4    02/02/2020           AF  Afghanistan       EMRO        NaN   \n",
      "\n",
      "   Cumulative_cases  New_deaths Cumulative_deaths  \n",
      "0                 0         NaN                 0  \n",
      "1                 0         NaN                 0  \n",
      "2                 0         NaN                 0  \n",
      "3                 0         NaN                 0  \n",
      "4                 0         NaN                 0  \n"
     ]
    }
   ],
   "source": [
    "df = df.rename(columns={'Cumulative_deaths,': 'Cumulative_deaths'})\n",
    "\n",
    "print(df.head())"
   ]
  },
  {
   "cell_type": "code",
   "execution_count": 6,
   "id": "7d9c5b6e-ab5f-4a77-8631-daf300614d8a",
   "metadata": {},
   "outputs": [],
   "source": [
    "df.fillna(0, inplace=True) "
   ]
  },
  {
   "cell_type": "code",
   "execution_count": 7,
   "id": "357c7e17-244d-4a8a-92c7-37e219be9e76",
   "metadata": {},
   "outputs": [],
   "source": [
    "df = df.drop(columns=['New_cases'], errors='ignore')  "
   ]
  },
  {
   "cell_type": "code",
   "execution_count": 8,
   "id": "008ffea0-d545-46e6-a156-2ecdedc0a986",
   "metadata": {},
   "outputs": [
    {
     "data": {
      "text/html": [
       "<div>\n",
       "<style scoped>\n",
       "    .dataframe tbody tr th:only-of-type {\n",
       "        vertical-align: middle;\n",
       "    }\n",
       "\n",
       "    .dataframe tbody tr th {\n",
       "        vertical-align: top;\n",
       "    }\n",
       "\n",
       "    .dataframe thead th {\n",
       "        text-align: right;\n",
       "    }\n",
       "</style>\n",
       "<table border=\"1\" class=\"dataframe\">\n",
       "  <thead>\n",
       "    <tr style=\"text-align: right;\">\n",
       "      <th></th>\n",
       "      <th>Date_reported</th>\n",
       "      <th>Country_code</th>\n",
       "      <th>Country</th>\n",
       "      <th>WHO_region</th>\n",
       "      <th>Cumulative_cases</th>\n",
       "      <th>New_deaths</th>\n",
       "      <th>Cumulative_deaths</th>\n",
       "    </tr>\n",
       "  </thead>\n",
       "  <tbody>\n",
       "    <tr>\n",
       "      <th>0</th>\n",
       "      <td>05/01/2020</td>\n",
       "      <td>AF</td>\n",
       "      <td>Afghanistan</td>\n",
       "      <td>EMRO</td>\n",
       "      <td>0</td>\n",
       "      <td>0.0</td>\n",
       "      <td>0</td>\n",
       "    </tr>\n",
       "    <tr>\n",
       "      <th>1</th>\n",
       "      <td>12/01/2020</td>\n",
       "      <td>AF</td>\n",
       "      <td>Afghanistan</td>\n",
       "      <td>EMRO</td>\n",
       "      <td>0</td>\n",
       "      <td>0.0</td>\n",
       "      <td>0</td>\n",
       "    </tr>\n",
       "    <tr>\n",
       "      <th>2</th>\n",
       "      <td>19/01/2020</td>\n",
       "      <td>AF</td>\n",
       "      <td>Afghanistan</td>\n",
       "      <td>EMRO</td>\n",
       "      <td>0</td>\n",
       "      <td>0.0</td>\n",
       "      <td>0</td>\n",
       "    </tr>\n",
       "    <tr>\n",
       "      <th>3</th>\n",
       "      <td>26/01/2020</td>\n",
       "      <td>AF</td>\n",
       "      <td>Afghanistan</td>\n",
       "      <td>EMRO</td>\n",
       "      <td>0</td>\n",
       "      <td>0.0</td>\n",
       "      <td>0</td>\n",
       "    </tr>\n",
       "    <tr>\n",
       "      <th>4</th>\n",
       "      <td>02/02/2020</td>\n",
       "      <td>AF</td>\n",
       "      <td>Afghanistan</td>\n",
       "      <td>EMRO</td>\n",
       "      <td>0</td>\n",
       "      <td>0.0</td>\n",
       "      <td>0</td>\n",
       "    </tr>\n",
       "  </tbody>\n",
       "</table>\n",
       "</div>"
      ],
      "text/plain": [
       "  Date_reported Country_code      Country WHO_region  Cumulative_cases  \\\n",
       "0    05/01/2020           AF  Afghanistan       EMRO                 0   \n",
       "1    12/01/2020           AF  Afghanistan       EMRO                 0   \n",
       "2    19/01/2020           AF  Afghanistan       EMRO                 0   \n",
       "3    26/01/2020           AF  Afghanistan       EMRO                 0   \n",
       "4    02/02/2020           AF  Afghanistan       EMRO                 0   \n",
       "\n",
       "   New_deaths Cumulative_deaths  \n",
       "0         0.0                 0  \n",
       "1         0.0                 0  \n",
       "2         0.0                 0  \n",
       "3         0.0                 0  \n",
       "4         0.0                 0  "
      ]
     },
     "execution_count": 8,
     "metadata": {},
     "output_type": "execute_result"
    }
   ],
   "source": [
    "df.head()"
   ]
  },
  {
   "cell_type": "code",
   "execution_count": 9,
   "id": "0e833e45-bc7b-497f-a66e-3d4194432892",
   "metadata": {},
   "outputs": [
    {
     "data": {
      "text/html": [
       "<div>\n",
       "<style scoped>\n",
       "    .dataframe tbody tr th:only-of-type {\n",
       "        vertical-align: middle;\n",
       "    }\n",
       "\n",
       "    .dataframe tbody tr th {\n",
       "        vertical-align: top;\n",
       "    }\n",
       "\n",
       "    .dataframe thead th {\n",
       "        text-align: right;\n",
       "    }\n",
       "</style>\n",
       "<table border=\"1\" class=\"dataframe\">\n",
       "  <thead>\n",
       "    <tr style=\"text-align: right;\">\n",
       "      <th></th>\n",
       "      <th>Date_reported</th>\n",
       "      <th>Country_code</th>\n",
       "      <th>Country</th>\n",
       "      <th>WHO_region</th>\n",
       "      <th>Cumulative_cases</th>\n",
       "      <th>New_deaths</th>\n",
       "      <th>Cumulative_deaths</th>\n",
       "    </tr>\n",
       "  </thead>\n",
       "  <tbody>\n",
       "    <tr>\n",
       "      <th>57835</th>\n",
       "      <td>14/07/2024</td>\n",
       "      <td>ZW</td>\n",
       "      <td>Zimbabwe</td>\n",
       "      <td>AFRO</td>\n",
       "      <td>266385</td>\n",
       "      <td>0.0</td>\n",
       "      <td>5740</td>\n",
       "    </tr>\n",
       "    <tr>\n",
       "      <th>57836</th>\n",
       "      <td>21/07/2024</td>\n",
       "      <td>ZW</td>\n",
       "      <td>Zimbabwe</td>\n",
       "      <td>AFRO</td>\n",
       "      <td>266386</td>\n",
       "      <td>0.0</td>\n",
       "      <td>5740</td>\n",
       "    </tr>\n",
       "    <tr>\n",
       "      <th>57837</th>\n",
       "      <td>28/07/2024</td>\n",
       "      <td>ZW</td>\n",
       "      <td>Zimbabwe</td>\n",
       "      <td>AFRO</td>\n",
       "      <td>266386</td>\n",
       "      <td>0.0</td>\n",
       "      <td>5740</td>\n",
       "    </tr>\n",
       "    <tr>\n",
       "      <th>57838</th>\n",
       "      <td>04/08/2024</td>\n",
       "      <td>ZW</td>\n",
       "      <td>Zimbabwe</td>\n",
       "      <td>AFRO</td>\n",
       "      <td>266386</td>\n",
       "      <td>0.0</td>\n",
       "      <td>5740</td>\n",
       "    </tr>\n",
       "    <tr>\n",
       "      <th>57839</th>\n",
       "      <td>11/08/2024</td>\n",
       "      <td>ZW</td>\n",
       "      <td>Zimbabwe</td>\n",
       "      <td>AFRO</td>\n",
       "      <td>266386</td>\n",
       "      <td>0.0</td>\n",
       "      <td>5740</td>\n",
       "    </tr>\n",
       "  </tbody>\n",
       "</table>\n",
       "</div>"
      ],
      "text/plain": [
       "      Date_reported Country_code   Country WHO_region  Cumulative_cases  \\\n",
       "57835    14/07/2024           ZW  Zimbabwe       AFRO            266385   \n",
       "57836    21/07/2024           ZW  Zimbabwe       AFRO            266386   \n",
       "57837    28/07/2024           ZW  Zimbabwe       AFRO            266386   \n",
       "57838    04/08/2024           ZW  Zimbabwe       AFRO            266386   \n",
       "57839    11/08/2024           ZW  Zimbabwe       AFRO            266386   \n",
       "\n",
       "       New_deaths Cumulative_deaths  \n",
       "57835         0.0              5740  \n",
       "57836         0.0              5740  \n",
       "57837         0.0              5740  \n",
       "57838         0.0              5740  \n",
       "57839         0.0              5740  "
      ]
     },
     "execution_count": 9,
     "metadata": {},
     "output_type": "execute_result"
    }
   ],
   "source": [
    "df.tail()"
   ]
  },
  {
   "cell_type": "code",
   "execution_count": 10,
   "id": "91af47a4-4134-4b3c-bbf3-7fdf4b3d183a",
   "metadata": {},
   "outputs": [
    {
     "data": {
      "text/plain": [
       "Date_reported         object\n",
       "Country_code          object\n",
       "Country               object\n",
       "WHO_region            object\n",
       "Cumulative_cases       int64\n",
       "New_deaths           float64\n",
       "Cumulative_deaths     object\n",
       "dtype: object"
      ]
     },
     "execution_count": 10,
     "metadata": {},
     "output_type": "execute_result"
    }
   ],
   "source": [
    "df.dtypes"
   ]
  },
  {
   "cell_type": "code",
   "execution_count": 11,
   "id": "3bf9d894-27aa-4e1d-9c90-286c0c904574",
   "metadata": {},
   "outputs": [
    {
     "data": {
      "text/plain": [
       "(57840, 7)"
      ]
     },
     "execution_count": 11,
     "metadata": {},
     "output_type": "execute_result"
    }
   ],
   "source": [
    "df.shape"
   ]
  },
  {
   "cell_type": "code",
   "execution_count": 12,
   "id": "a2ba3752-cdd9-4169-b9b2-7e6c1c7ec94b",
   "metadata": {},
   "outputs": [
    {
     "name": "stdout",
     "output_type": "stream",
     "text": [
      "  Date_reported      Country  Cumulative_cases  New_deaths Cumulative_deaths\n",
      "0    05/01/2020  Afghanistan                 0         0.0                 0\n",
      "1    12/01/2020  Afghanistan                 0         0.0                 0\n",
      "2    19/01/2020  Afghanistan                 0         0.0                 0\n",
      "3    26/01/2020  Afghanistan                 0         0.0                 0\n",
      "4    02/02/2020  Afghanistan                 0         0.0                 0\n"
     ]
    }
   ],
   "source": [
    "df = df.drop(columns=['WHO_region', 'Country_code'], errors='ignore')\n",
    "print(df.head())"
   ]
  },
  {
   "cell_type": "code",
   "execution_count": 13,
   "id": "dd01504c-d8f2-45c0-8513-3bdbc6236120",
   "metadata": {},
   "outputs": [
    {
     "data": {
      "text/html": [
       "<div>\n",
       "<style scoped>\n",
       "    .dataframe tbody tr th:only-of-type {\n",
       "        vertical-align: middle;\n",
       "    }\n",
       "\n",
       "    .dataframe tbody tr th {\n",
       "        vertical-align: top;\n",
       "    }\n",
       "\n",
       "    .dataframe thead th {\n",
       "        text-align: right;\n",
       "    }\n",
       "</style>\n",
       "<table border=\"1\" class=\"dataframe\">\n",
       "  <thead>\n",
       "    <tr style=\"text-align: right;\">\n",
       "      <th></th>\n",
       "      <th>Date_reported</th>\n",
       "      <th>Country</th>\n",
       "      <th>Cumulative_cases</th>\n",
       "      <th>New_deaths</th>\n",
       "      <th>Cumulative_deaths</th>\n",
       "    </tr>\n",
       "  </thead>\n",
       "  <tbody>\n",
       "    <tr>\n",
       "      <th>0</th>\n",
       "      <td>05/01/2020</td>\n",
       "      <td>Afghanistan</td>\n",
       "      <td>0</td>\n",
       "      <td>0.0</td>\n",
       "      <td>0</td>\n",
       "    </tr>\n",
       "    <tr>\n",
       "      <th>1</th>\n",
       "      <td>12/01/2020</td>\n",
       "      <td>Afghanistan</td>\n",
       "      <td>0</td>\n",
       "      <td>0.0</td>\n",
       "      <td>0</td>\n",
       "    </tr>\n",
       "    <tr>\n",
       "      <th>2</th>\n",
       "      <td>19/01/2020</td>\n",
       "      <td>Afghanistan</td>\n",
       "      <td>0</td>\n",
       "      <td>0.0</td>\n",
       "      <td>0</td>\n",
       "    </tr>\n",
       "    <tr>\n",
       "      <th>3</th>\n",
       "      <td>26/01/2020</td>\n",
       "      <td>Afghanistan</td>\n",
       "      <td>0</td>\n",
       "      <td>0.0</td>\n",
       "      <td>0</td>\n",
       "    </tr>\n",
       "    <tr>\n",
       "      <th>4</th>\n",
       "      <td>02/02/2020</td>\n",
       "      <td>Afghanistan</td>\n",
       "      <td>0</td>\n",
       "      <td>0.0</td>\n",
       "      <td>0</td>\n",
       "    </tr>\n",
       "  </tbody>\n",
       "</table>\n",
       "</div>"
      ],
      "text/plain": [
       "  Date_reported      Country  Cumulative_cases  New_deaths Cumulative_deaths\n",
       "0    05/01/2020  Afghanistan                 0         0.0                 0\n",
       "1    12/01/2020  Afghanistan                 0         0.0                 0\n",
       "2    19/01/2020  Afghanistan                 0         0.0                 0\n",
       "3    26/01/2020  Afghanistan                 0         0.0                 0\n",
       "4    02/02/2020  Afghanistan                 0         0.0                 0"
      ]
     },
     "execution_count": 13,
     "metadata": {},
     "output_type": "execute_result"
    }
   ],
   "source": [
    "df.head()"
   ]
  },
  {
   "cell_type": "markdown",
   "id": "706bf20f-41a0-48a9-89a0-c05ce565bfda",
   "metadata": {},
   "source": [
    "## Step 3: Saving the cleaned data to a local file."
   ]
  },
  {
   "cell_type": "code",
   "execution_count": 14,
   "id": "c5c61af2-1a8b-4f7a-8a31-f6ba44317b10",
   "metadata": {},
   "outputs": [],
   "source": [
    "df.to_csv(r'C:\\Users\\sushe\\Documents\\HarshaProjectsDE\\GCP-ETL-Project\\gcs-to-bigquery-etl-pipeline\\Dataset\\CleanedData.csv', index=False)"
   ]
  },
  {
   "cell_type": "markdown",
   "id": "c4f05f88-1254-4d51-bded-ae852a3f48be",
   "metadata": {},
   "source": [
    "## Step 4: Upload the cleaned file back to GCS."
   ]
  },
  {
   "cell_type": "code",
   "execution_count": 15,
   "id": "faadf077-b7f1-48b6-be7a-3031f1cf24ed",
   "metadata": {},
   "outputs": [
    {
     "name": "stdout",
     "output_type": "stream",
     "text": [
      "Requirement already satisfied: google-cloud-storage in c:\\python\\lib\\site-packages (3.1.0)\n",
      "Requirement already satisfied: google-auth<3.0dev,>=2.26.1 in c:\\python\\lib\\site-packages (from google-cloud-storage) (2.38.0)\n",
      "Requirement already satisfied: google-api-core<3.0.0dev,>=2.15.0 in c:\\python\\lib\\site-packages (from google-cloud-storage) (2.24.1)\n",
      "Requirement already satisfied: google-cloud-core<3.0dev,>=2.4.2 in c:\\python\\lib\\site-packages (from google-cloud-storage) (2.4.2)\n",
      "Requirement already satisfied: google-resumable-media>=2.7.2 in c:\\python\\lib\\site-packages (from google-cloud-storage) (2.7.2)\n",
      "Requirement already satisfied: requests<3.0.0dev,>=2.18.0 in c:\\python\\lib\\site-packages (from google-cloud-storage) (2.31.0)\n",
      "Requirement already satisfied: google-crc32c<2.0dev,>=1.0 in c:\\python\\lib\\site-packages (from google-cloud-storage) (1.6.0)\n",
      "Requirement already satisfied: googleapis-common-protos<2.0.dev0,>=1.56.2 in c:\\python\\lib\\site-packages (from google-api-core<3.0.0dev,>=2.15.0->google-cloud-storage) (1.69.0)\n",
      "Requirement already satisfied: protobuf!=3.20.0,!=3.20.1,!=4.21.0,!=4.21.1,!=4.21.2,!=4.21.3,!=4.21.4,!=4.21.5,<6.0.0.dev0,>=3.19.5 in c:\\python\\lib\\site-packages (from google-api-core<3.0.0dev,>=2.15.0->google-cloud-storage) (5.29.3)\n",
      "Requirement already satisfied: proto-plus<2.0.0dev,>=1.22.3 in c:\\python\\lib\\site-packages (from google-api-core<3.0.0dev,>=2.15.0->google-cloud-storage) (1.26.0)\n",
      "Requirement already satisfied: cachetools<6.0,>=2.0.0 in c:\\python\\lib\\site-packages (from google-auth<3.0dev,>=2.26.1->google-cloud-storage) (5.5.2)\n",
      "Requirement already satisfied: pyasn1-modules>=0.2.1 in c:\\python\\lib\\site-packages (from google-auth<3.0dev,>=2.26.1->google-cloud-storage) (0.4.1)\n",
      "Requirement already satisfied: rsa<5,>=3.1.4 in c:\\python\\lib\\site-packages (from google-auth<3.0dev,>=2.26.1->google-cloud-storage) (4.9)\n",
      "Requirement already satisfied: charset-normalizer<4,>=2 in c:\\python\\lib\\site-packages (from requests<3.0.0dev,>=2.18.0->google-cloud-storage) (3.2.0)\n",
      "Requirement already satisfied: idna<4,>=2.5 in c:\\python\\lib\\site-packages (from requests<3.0.0dev,>=2.18.0->google-cloud-storage) (3.4)\n",
      "Requirement already satisfied: urllib3<3,>=1.21.1 in c:\\python\\lib\\site-packages (from requests<3.0.0dev,>=2.18.0->google-cloud-storage) (2.0.4)\n",
      "Requirement already satisfied: certifi>=2017.4.17 in c:\\python\\lib\\site-packages (from requests<3.0.0dev,>=2.18.0->google-cloud-storage) (2023.7.22)\n",
      "Requirement already satisfied: pyasn1<0.7.0,>=0.4.6 in c:\\python\\lib\\site-packages (from pyasn1-modules>=0.2.1->google-auth<3.0dev,>=2.26.1->google-cloud-storage) (0.6.1)\n",
      "Requirement already satisfied: google-auth in c:\\python\\lib\\site-packages (2.38.0)\n",
      "Requirement already satisfied: cachetools<6.0,>=2.0.0 in c:\\python\\lib\\site-packages (from google-auth) (5.5.2)\n",
      "Requirement already satisfied: pyasn1-modules>=0.2.1 in c:\\python\\lib\\site-packages (from google-auth) (0.4.1)\n",
      "Requirement already satisfied: rsa<5,>=3.1.4 in c:\\python\\lib\\site-packages (from google-auth) (4.9)\n",
      "Requirement already satisfied: pyasn1<0.7.0,>=0.4.6 in c:\\python\\lib\\site-packages (from pyasn1-modules>=0.2.1->google-auth) (0.6.1)\n"
     ]
    }
   ],
   "source": [
    "!pip install google-cloud-storage\n",
    "!pip install google-auth"
   ]
  },
  {
   "cell_type": "code",
   "execution_count": 16,
   "id": "2f344d16-8a13-43b1-87de-b666bb8e308b",
   "metadata": {},
   "outputs": [
    {
     "name": "stderr",
     "output_type": "stream",
     "text": [
      "Your browser has been opened to visit:\n",
      "\n",
      "    https://accounts.google.com/o/oauth2/auth?response_type=code&client_id=32555940559.apps.googleusercontent.com&redirect_uri=http%3A%2F%2Flocalhost%3A8085%2F&scope=openid+https%3A%2F%2Fwww.googleapis.com%2Fauth%2Fuserinfo.email+https%3A%2F%2Fwww.googleapis.com%2Fauth%2Fcloud-platform+https%3A%2F%2Fwww.googleapis.com%2Fauth%2Fappengine.admin+https%3A%2F%2Fwww.googleapis.com%2Fauth%2Fsqlservice.login+https%3A%2F%2Fwww.googleapis.com%2Fauth%2Fcompute+https%3A%2F%2Fwww.googleapis.com%2Fauth%2Faccounts.reauth&state=6jbKYYa5OuZuWiLSz8ttG7XMELfVr2&access_type=offline&code_challenge=J4wffX-DSKuWBoVDGRHV_j323ukPCoebgY37CEGqKWo&code_challenge_method=S256\n",
      "\n",
      "\n",
      "You are now logged in as [harshavardhan03467@gmail.com].\n",
      "Your current project is [caramel-duality-452616-e6].  You can change this setting by running:\n",
      "  $ gcloud config set project PROJECT_ID\n"
     ]
    }
   ],
   "source": [
    "!gcloud auth login"
   ]
  },
  {
   "cell_type": "code",
   "execution_count": 17,
   "id": "fc9c7ab4-9f7f-4717-b4b2-538fc6dc90dd",
   "metadata": {},
   "outputs": [],
   "source": [
    "from google.cloud import storage\n",
    "import os\n",
    "storage_client = storage.Client()"
   ]
  },
  {
   "cell_type": "markdown",
   "id": "f9f6d056-9700-4976-a2d1-f79aefeb8054",
   "metadata": {},
   "source": [
    "#### Created the bucket Inside GCS called **covid19data202024** and then loaded the dataset **WHO_COVID19_globaldata.csv** into the GCS bucket "
   ]
  },
  {
   "cell_type": "code",
   "execution_count": 18,
   "id": "f12861a5-416a-482b-ac43-46c2d065dd86",
   "metadata": {},
   "outputs": [],
   "source": [
    "bucket_name = \"covid19data202024\""
   ]
  },
  {
   "cell_type": "code",
   "execution_count": 19,
   "id": "b077c4a7-fa36-4963-a597-f14780633f4a",
   "metadata": {},
   "outputs": [],
   "source": [
    "local_file_path = r\"C:\\Users\\sushe\\Documents\\HarshaProjectsDE\\GCP-ETL-Project\\gcs-to-bigquery-etl-pipeline\\Dataset\\CleanedData.csv\""
   ]
  },
  {
   "cell_type": "code",
   "execution_count": 20,
   "id": "e86fe419-9cc6-478c-913b-189b3b5ba20e",
   "metadata": {},
   "outputs": [],
   "source": [
    "destination_blob_name = \"WHO_COVID19_global_Clean_data.csv\""
   ]
  },
  {
   "cell_type": "code",
   "execution_count": 21,
   "id": "8b9e9002-accf-4552-be88-47b7f48910a1",
   "metadata": {},
   "outputs": [],
   "source": [
    "bucket = storage_client.bucket(bucket_name)"
   ]
  },
  {
   "cell_type": "code",
   "execution_count": 22,
   "id": "aab72789-61c5-446a-aa8c-a6a72cbd8d29",
   "metadata": {},
   "outputs": [],
   "source": [
    "blob = bucket.blob(destination_blob_name)\n",
    "blob.upload_from_filename(local_file_path)"
   ]
  },
  {
   "cell_type": "code",
   "execution_count": 23,
   "id": "c05518e6-4900-412d-841a-c5fa83ecb9f4",
   "metadata": {},
   "outputs": [
    {
     "name": "stdout",
     "output_type": "stream",
     "text": [
      "File C:\\Users\\sushe\\Documents\\HarshaProjectsDE\\GCP-ETL-Project\\gcs-to-bigquery-etl-pipeline\\Dataset\\CleanedData.csv uploaded to WHO_COVID19_global_Clean_data.csv.\n"
     ]
    }
   ],
   "source": [
    "print(f\"File {local_file_path} uploaded to {destination_blob_name}.\")"
   ]
  },
  {
   "cell_type": "markdown",
   "id": "9321a1a7-9ee7-40b0-89c0-94be2f6995da",
   "metadata": {},
   "source": [
    "#### Finally, the data has been loaded to GCS. We can directly upload the data from localto GCS using Upload file option. However, I wanna try it using python inside jupyter notebook"
   ]
  },
  {
   "cell_type": "markdown",
   "id": "6f808b2d-30ca-4599-ad89-2ac24021b5cb",
   "metadata": {},
   "source": [
    "The motive behind loading data from local to GCS in this project is to **automate the process of securely backing up and centralizing data in the cloud**. By doing so, you ensure that your data is safely stored, accessible from anywhere, and ready for scalable processing or analysis. It also eliminates the risk of data loss on local storage and makes it easier to share or integrate with other cloud-based services or applications."
   ]
  }
 ],
 "metadata": {
  "kernelspec": {
   "display_name": "Python 3 (ipykernel)",
   "language": "python",
   "name": "python3"
  },
  "language_info": {
   "codemirror_mode": {
    "name": "ipython",
    "version": 3
   },
   "file_extension": ".py",
   "mimetype": "text/x-python",
   "name": "python",
   "nbconvert_exporter": "python",
   "pygments_lexer": "ipython3",
   "version": "3.9.6"
  }
 },
 "nbformat": 4,
 "nbformat_minor": 5
}
